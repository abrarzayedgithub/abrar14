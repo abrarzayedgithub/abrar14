{
  "nbformat": 4,
  "nbformat_minor": 0,
  "metadata": {
    "colab": {
      "provenance": [],
      "authorship_tag": "ABX9TyPEI5WWvkIDNDjJUVDVaGhJ",
      "include_colab_link": true
    },
    "kernelspec": {
      "name": "python3",
      "display_name": "Python 3"
    },
    "language_info": {
      "name": "python"
    }
  },
  "cells": [
    {
      "cell_type": "markdown",
      "metadata": {
        "id": "view-in-github",
        "colab_type": "text"
      },
      "source": [
        "<a href=\"https://colab.research.google.com/github/abrarzayedgithub/abrar14/blob/tuples/tuple_slicing.ipynb\" target=\"_parent\"><img src=\"https://colab.research.google.com/assets/colab-badge.svg\" alt=\"Open In Colab\"/></a>"
      ]
    },
    {
      "cell_type": "code",
      "execution_count": 1,
      "metadata": {
        "colab": {
          "base_uri": "https://localhost:8080/"
        },
        "id": "12EvGq6x6j4K",
        "outputId": "8efa669e-f163-4e64-c2e2-633516d3972b"
      },
      "outputs": [
        {
          "output_type": "stream",
          "name": "stdout",
          "text": [
            "sliced tuple: (20, 30, 40)\n"
          ]
        }
      ],
      "source": [
        "my_tuple = (10,20,30,40)\n",
        "sliced_tuple = my_tuple[1:4]\n",
        "print('sliced tuple:', sliced_tuple)"
      ]
    }
  ]
}